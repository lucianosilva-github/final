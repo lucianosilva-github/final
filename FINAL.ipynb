{
  "nbformat": 4,
  "nbformat_minor": 0,
  "metadata": {
    "colab": {
      "provenance": [],
      "include_colab_link": true
    },
    "kernelspec": {
      "name": "python3",
      "display_name": "Python 3"
    },
    "language_info": {
      "name": "python"
    }
  },
  "cells": [
    {
      "cell_type": "markdown",
      "metadata": {
        "id": "view-in-github",
        "colab_type": "text"
      },
      "source": [
        "<a href=\"https://colab.research.google.com/github/lucianosilva-github/final/blob/main/FINAL.ipynb\" target=\"_parent\"><img src=\"https://colab.research.google.com/assets/colab-badge.svg\" alt=\"Open In Colab\"/></a>"
      ]
    },
    {
      "cell_type": "markdown",
      "source": [
        "**LOGICA E MATEMÁTICA DISCRETA - PROVA FINAL**"
      ],
      "metadata": {
        "id": "38qy_v-mj8pm"
      }
    },
    {
      "cell_type": "markdown",
      "source": [
        "**NAME:**"
      ],
      "metadata": {
        "id": "dkGm2w0EkGI8"
      }
    },
    {
      "cell_type": "markdown",
      "source": [
        "**QUESTÃO 1 (2.0 PONTOS):** Utilizando o mecanismo de lambdas, implemente o tipo vetor unitário n-dimensional de coordenada i, onde n indica a quantidade de coordenadas do vetor e i a posição onde deve estar o único 1 do vetor."
      ],
      "metadata": {
        "id": "wnKJuE-3kKuV"
      }
    },
    {
      "cell_type": "code",
      "source": [
        "vetor = lambda ...\n",
        "n=6\n",
        "i=2\n",
        "print (vetor(n,i))\n",
        "#resultado deveria ser [0,0,1,0,0,0]"
      ],
      "metadata": {
        "id": "m_D3LmbokU9x"
      },
      "execution_count": null,
      "outputs": []
    },
    {
      "cell_type": "markdown",
      "source": [
        "**QUESTÃO 2 (2.0 PONTOS):** Uma pilha (STACK) é uma estrutura de dados que pode se implementada como uma lista P. Nesta lista, existem duas operações:\n",
        "\n",
        "*   **push(P,X)**: insere X no final da lista da pilha P e devolve a pilha P com o elemento X inserido nela\n",
        "*   **pop(P)**: remove, caso houver, o último elemento da lista da Pilha P e devolve como a pilha sem o último elemento inserido\n",
        "\n"
      ],
      "metadata": {
        "id": "qREpJTWJkiNp"
      }
    },
    {
      "cell_type": "markdown",
      "source": [
        "**QUESTÃO 2A (1.0 ponto)** Produza uma especificação algébrica para o tipo de dado PILHA de números naturais(NAT):\n",
        "\n",
        "SPEC **PILHA**\n",
        "\n",
        "SORTS PILHA, NAT\n",
        "\n",
        "OPS:\n",
        "\n",
        "\n",
        "     ....\n",
        "\n",
        "\n",
        "\n",
        "\n",
        "AXIOMS:\n",
        "\n",
        "     .....\n",
        "\n",
        "END SPEC"
      ],
      "metadata": {
        "id": "RVFX4pHqk33d"
      }
    },
    {
      "cell_type": "markdown",
      "source": [
        "**QUESTÃO 2B (1.0 ponto)** Implemente a estrutura de dados PILHA de números naturais com base na especificação anterior."
      ],
      "metadata": {
        "id": "TFZtJ8AYzjdq"
      }
    },
    {
      "cell_type": "code",
      "source": [
        "#COLOQUE SUA IMPLEMENTAÇÃO AQUI"
      ],
      "metadata": {
        "id": "eU7-6Dg8zwnA"
      },
      "execution_count": null,
      "outputs": []
    },
    {
      "cell_type": "markdown",
      "source": [
        "**QUESTÃO 3 (2.0 PONTOS):** Considere a implementação do tipo recursivo tree (ÁRVORE) de números inteiros feita em ML:"
      ],
      "metadata": {
        "id": "YIM9zD1mk-Ur"
      }
    },
    {
      "cell_type": "code",
      "source": [
        "!apt-get install smlnj"
      ],
      "metadata": {
        "id": "mlTkKIJqlZbx"
      },
      "execution_count": null,
      "outputs": []
    },
    {
      "cell_type": "code",
      "source": [
        "%%writefile tree.sml\n",
        "\n",
        "datatype inttree = Empty \n",
        "                   | Node of { value: int, left: inttree, right: inttree }\n",
        "\n",
        "tree= Node {value = 2, \n",
        "            left = Node {value=1, left = Empty, right = Empty},\n",
        "            right= Node {value=3, left = Empty, right = Empty}}\n",
        "     \n"
      ],
      "metadata": {
        "id": "ySOBbW_yl38C"
      },
      "execution_count": null,
      "outputs": []
    },
    {
      "cell_type": "markdown",
      "source": [
        "Uma **floresta (forest)** é uma coleção, possivelmente vazia, de árvores. Especifique um tipo recursivo em ML para florestas de árvores de inteiros. "
      ],
      "metadata": {
        "id": "sk_9N2odmBEL"
      }
    },
    {
      "cell_type": "code",
      "source": [
        "#IMPLEMENTE SEU CÓDIGO AQUI"
      ],
      "metadata": {
        "id": "f4KLp5X6mK59"
      },
      "execution_count": null,
      "outputs": []
    },
    {
      "cell_type": "markdown",
      "source": [
        "**QUESTÃO 4 (2.0 PONTOS):** Utilizando o solver Z3, mostre que todo número ímpar maior que zero é sempre a soma de um número par mais 1.\n",
        "\n",
        "Exemplos:\n",
        "\n",
        "* 1 = 0+1\n",
        "* 3 = 2+1\n",
        "* 5 = 4+1\n",
        "* 7 = 6+1\n",
        "\n"
      ],
      "metadata": {
        "id": "VMKifYchmTmj"
      }
    },
    {
      "cell_type": "code",
      "source": [
        "!pip install z3-solver"
      ],
      "metadata": {
        "id": "kN0fiBINmx8U"
      },
      "execution_count": null,
      "outputs": []
    },
    {
      "cell_type": "code",
      "source": [
        "#IMPLEMENTE SEU CÓDIGO AQUI"
      ],
      "metadata": {
        "id": "ux6MAbgfm3i2"
      },
      "execution_count": null,
      "outputs": []
    },
    {
      "cell_type": "markdown",
      "source": [
        "**QUESTÃO 5 (2.0 PONTOS):** Considere o seguinte algoritmo recursivo em Python, que realiza busca binária num vetor ordenado de inteiros de tamanho n:"
      ],
      "metadata": {
        "id": "PGSQHM3coR1M"
      }
    },
    {
      "cell_type": "code",
      "source": [
        "def binary_search(arr, low, high, x):\n",
        " \n",
        "    # Check base case\n",
        "    if high >= low:\n",
        " \n",
        "        mid = (high + low) // 2\n",
        " \n",
        "        # If element is present at the middle itself\n",
        "        if arr[mid] == x:\n",
        "            return mid\n",
        " \n",
        "        # If element is smaller than mid, then it can only\n",
        "        # be present in left subarray\n",
        "        elif arr[mid] > x:\n",
        "            return binary_search(arr, low, mid - 1, x)\n",
        " \n",
        "        # Else the element can only be present in right subarray\n",
        "        else:\n",
        "            return binary_search(arr, mid + 1, high, x)\n",
        " \n",
        "    else:\n",
        "        # Element is not present in the array\n",
        "        return -1\n",
        " \n",
        "# Test array\n",
        "arr = [ 2, 3, 4, 10, 40 ]\n",
        "x = 10\n",
        " \n",
        "# Function call\n",
        "result = binary_search(arr, 0, len(arr)-1, x)\n",
        " \n",
        "if result != -1:\n",
        "    print(\"Element is present at index\", str(result))\n",
        "else:\n",
        "    print(\"Element is not present in array\")"
      ],
      "metadata": {
        "id": "0xtzEeTopEzH",
        "colab": {
          "base_uri": "https://localhost:8080/"
        },
        "outputId": "7c5c50cb-2357-415e-a048-2cd58f25a743"
      },
      "execution_count": 1,
      "outputs": [
        {
          "output_type": "stream",
          "name": "stdout",
          "text": [
            "Element is present at index 3\n"
          ]
        }
      ]
    },
    {
      "cell_type": "markdown",
      "source": [
        "Queremos **contar quantas comparações**, no máximo, a busca binária faz para procurar por um elemento x num vetor de tamanho n. Escreva a relação de recorrência para contar estas comparações e a resolva com o módulo sympy da linguagem Python."
      ],
      "metadata": {
        "id": "OmIFrwQapWsF"
      }
    },
    {
      "cell_type": "code",
      "source": [
        "#IMPLEMENTE SEU CÓDIGO AQUI"
      ],
      "metadata": {
        "id": "zhcLhfW89-Rm"
      },
      "execution_count": null,
      "outputs": []
    }
  ]
}