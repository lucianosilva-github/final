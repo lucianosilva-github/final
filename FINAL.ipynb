{
  "nbformat": 4,
  "nbformat_minor": 0,
  "metadata": {
    "colab": {
      "provenance": [],
      "include_colab_link": true
    },
    "kernelspec": {
      "name": "python3",
      "display_name": "Python 3"
    },
    "language_info": {
      "name": "python"
    }
  },
  "cells": [
    {
      "cell_type": "markdown",
      "metadata": {
        "id": "view-in-github",
        "colab_type": "text"
      },
      "source": [
        "<a href=\"https://colab.research.google.com/github/lucianosilva-github/final/blob/main/FINAL.ipynb\" target=\"_parent\"><img src=\"https://colab.research.google.com/assets/colab-badge.svg\" alt=\"Open In Colab\"/></a>"
      ]
    },
    {
      "cell_type": "markdown",
      "source": [
        "**LOGICA E MATEMÁTICA DISCRETA - PROVA FINAL**"
      ],
      "metadata": {
        "id": "38qy_v-mj8pm"
      }
    },
    {
      "cell_type": "markdown",
      "source": [
        "**NAME:**"
      ],
      "metadata": {
        "id": "dkGm2w0EkGI8"
      }
    },
    {
      "cell_type": "markdown",
      "source": [
        "**QUESTÃO 1 (2.0 PONTOS):** Utilizando o mecanismo de lambdas, implemente o tipo vetor unitário n-dimensional de coordenada i, onde n indica a quantidade de coordenadas do vetor e i a posição onde deve estar o único 1 do vetor."
      ],
      "metadata": {
        "id": "wnKJuE-3kKuV"
      }
    },
    {
      "cell_type": "code",
      "source": [
        "vetor = lambda ...\n",
        "n=6\n",
        "i=2\n",
        "print (vetor(n,i))\n",
        "#resultado deveria ser [0,0,1,0,0,0]"
      ],
      "metadata": {
        "id": "m_D3LmbokU9x"
      },
      "execution_count": null,
      "outputs": []
    },
    {
      "cell_type": "markdown",
      "source": [
        "**QUESTÃO 2 (2.0 PONTOS):** Uma pilha (STACK) é uma estrutura de dados que pode se implementada como uma lista P. Nesta lista, existem duas operações:\n",
        "\n",
        "*   **push(P,X)**: insere X no final da lista da pilha P e devolve a pilha P com o elemento X inserido nela\n",
        "*   **pop(P)**: remove, caso houver, o último elemento da lista da Pilha P e devolve como a pilha sem o último elemento inserido\n",
        "\n"
      ],
      "metadata": {
        "id": "qREpJTWJkiNp"
      }
    },
    {
      "cell_type": "markdown",
      "source": [
        "**QUESTÃO 3A (1.0 ponto)** Produza uma especificação algébrica para o tipo de dado PILHA:\n",
        "\n",
        "SPEC **PILHA**\n",
        "\n",
        "OPS:\n",
        "\n",
        "\n",
        "     ....\n",
        "\n",
        "\n",
        "\n",
        "\n",
        "AXIOMS:\n",
        "\n",
        "     .....\n",
        "\n",
        "END SPEC"
      ],
      "metadata": {
        "id": "RVFX4pHqk33d"
      }
    },
    {
      "cell_type": "markdown",
      "source": [
        "**QUESTION 3 (2.0 POINTS):** Consider the following list implementation in ML:"
      ],
      "metadata": {
        "id": "YIM9zD1mk-Ur"
      }
    },
    {
      "cell_type": "code",
      "source": [
        "!apt-get install smlnj"
      ],
      "metadata": {
        "id": "mlTkKIJqlZbx"
      },
      "execution_count": null,
      "outputs": []
    },
    {
      "cell_type": "code",
      "source": [
        "%%writefile list.sml\n",
        "\n",
        "datatype intlist =  Nil \n",
        "                  | Cons of (int * intlist)\n",
        "\n",
        "val list1 = Nil \t\t            (* the empty list:  []*)\n",
        "val list2 = Cons(1,Nil) \t      (* the list containing just 1:  [1] *)\n",
        "val list3 = Cons(2,Cons(1,Nil)) (* the list [2,1] *)\n",
        "val list4 = Cons(2,list2)       (* also the list [2,1] *)\n",
        "\n",
        "fun length(lst: intlist): int =\n",
        "  case lst of\n",
        "              Nil => 0\n",
        "              Cons(h,t) => 1 + length(t)\n"
      ],
      "metadata": {
        "id": "QAJ5gjAqlgPK"
      },
      "execution_count": null,
      "outputs": []
    },
    {
      "cell_type": "code",
      "source": [
        "!/usr/bin/sml"
      ],
      "metadata": {
        "id": "eyYmejIslrgo"
      },
      "execution_count": null,
      "outputs": []
    },
    {
      "cell_type": "markdown",
      "source": [
        "Consider also the tree implementation in ML:"
      ],
      "metadata": {
        "id": "yC10MDP0lyF5"
      }
    },
    {
      "cell_type": "code",
      "source": [
        "%%writefile tree.sml\n",
        "\n",
        "datatype inttree = Empty \n",
        "                   | Node of { value: int, left: inttree, right: inttree }\n",
        "\n",
        "tree= Node {value = 2, \n",
        "            left = Node {value=1, left = Empty, right = Empty},\n",
        "            right= Node {value=3, left = Empty, right = Empty}}\n",
        "     \n"
      ],
      "metadata": {
        "id": "ySOBbW_yl38C"
      },
      "execution_count": null,
      "outputs": []
    },
    {
      "cell_type": "markdown",
      "source": [
        "Refactor the datatype intlist to use Node instead of Cons to build a list."
      ],
      "metadata": {
        "id": "sk_9N2odmBEL"
      }
    },
    {
      "cell_type": "code",
      "source": [
        "#TYPE YOUR ANSWER HERE"
      ],
      "metadata": {
        "id": "f4KLp5X6mK59"
      },
      "execution_count": null,
      "outputs": []
    },
    {
      "cell_type": "markdown",
      "source": [
        "**QUESTION 4 (2.0 POINTS):** Here we have a proof that $\\sum_{i=0}^n i = 1+2+3+...+n = \\frac{n(n+1)}{2}$, using the Z3 Solver:"
      ],
      "metadata": {
        "id": "VMKifYchmTmj"
      }
    },
    {
      "cell_type": "code",
      "source": [
        "!pip install z3-solver"
      ],
      "metadata": {
        "id": "kN0fiBINmx8U"
      },
      "execution_count": null,
      "outputs": []
    },
    {
      "cell_type": "code",
      "source": [
        "from z3 import *\n",
        "\n",
        "#defining sumn\n",
        "n = Int(\"n\")\n",
        "sumn = Function(\"sumn\", IntSort(), IntSort())\n",
        "s = Solver()\n",
        "s.add(sumn(0) == 0)\n",
        "s.add(ForAll([n], sumn(n+1) == (n + 1) + sumn(n)))\n",
        "\n",
        "#try to find a counterexample of the sum\n",
        "s.add(Not(ForAll([n], Implies(n >= 0, 2 * sumn(n) == n * (n + 1)))))\n",
        "s.check()"
      ],
      "metadata": {
        "id": "ux6MAbgfm3i2"
      },
      "execution_count": null,
      "outputs": []
    },
    {
      "cell_type": "markdown",
      "source": [
        "Prove that $\\binom{2n}{n}<2^{2n-2}$ for all $n\\ge 5$, using the binomial definition $\\binom{n}{k}=\\frac{n!}{k!(n-k)!}$ and the fact $\\binom{n+1}{n}=\\binom{n}{n}+\\binom{n}{n-1}$."
      ],
      "metadata": {
        "id": "3WVIQnLPm8In"
      }
    },
    {
      "cell_type": "code",
      "source": [
        "#TYPE YOUR ANSWER HERE"
      ],
      "metadata": {
        "id": "hpQJd2j5oN7i"
      },
      "execution_count": null,
      "outputs": []
    },
    {
      "cell_type": "markdown",
      "source": [
        "**QUESTION 5 (2.0 POINTS):** Consider the following recurrence relation:\n",
        "\n",
        "* T(0)=0\n",
        "* T(n)=2+T(n-1), n>0\n",
        "\n",
        "This recurrence relation can be solved by the following code:"
      ],
      "metadata": {
        "id": "PGSQHM3coR1M"
      }
    },
    {
      "cell_type": "code",
      "source": [
        "from sympy import *\n",
        "T = Function('T')\n",
        "n = symbols('n',integer=True)\n",
        "f = T(n)-2-T(n-1)\n",
        "rsolve(f,T(n),{T(0):0})"
      ],
      "metadata": {
        "id": "0xtzEeTopEzH"
      },
      "execution_count": null,
      "outputs": []
    },
    {
      "cell_type": "markdown",
      "source": [
        "Consider the following recursive program:"
      ],
      "metadata": {
        "id": "h5TVmQVYpKU3"
      }
    },
    {
      "cell_type": "code",
      "source": [
        "def fib(n):\n",
        "  if n==0 or n==1:\n",
        "    return 1\n",
        "  else:\n",
        "    return fib(n-1)+fib(n-2)\n",
        "\n",
        "fib(5)\n",
        "     \n"
      ],
      "metadata": {
        "id": "-px4gVmdpPSW"
      },
      "execution_count": null,
      "outputs": []
    },
    {
      "cell_type": "markdown",
      "source": [
        "Write down the number of arithmetical operations needed to compuyter fib(n) as a recurrence relation and solve it:"
      ],
      "metadata": {
        "id": "OmIFrwQapWsF"
      }
    },
    {
      "cell_type": "code",
      "source": [
        "#TYPE YOUR ANSWER HERE"
      ],
      "metadata": {
        "id": "GTEi8SZopj5o"
      },
      "execution_count": null,
      "outputs": []
    }
  ]
}